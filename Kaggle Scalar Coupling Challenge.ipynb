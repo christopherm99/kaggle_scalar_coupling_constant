{
 "cells": [
  {
   "cell_type": "markdown",
   "metadata": {},
   "source": [
    "# Predicting Scalar Coupling constant\n",
    "\n",
    "The goal of this competition is to predict the scalar coupling constant between atoms in a given molecule.\n",
    "\n",
    "You are given: \n",
    "- Atom types(elements)\n",
    "- Coupling type\n",
    "- 3d structure, given in XYZ coordinates\n",
    "\n",
    "Files provided:\n",
    "- train, gives the atom information\n",
    "- test, testing data\n",
    "- structures, the 3d structures\n",
    "\n",
    "Extra files(will NOT be given during the actual scoring)\n",
    "- dipole moments\n",
    "- magnetic shielding tensors\n",
    "- mulliken charges\n",
    "- potential energy\n",
    "- scalar coupling contributions\n",
    "\n",
    "First, just import libraries"
   ]
  },
  {
   "cell_type": "code",
   "execution_count": 2,
   "metadata": {},
   "outputs": [
    {
     "name": "stderr",
     "output_type": "stream",
     "text": [
      "Using TensorFlow backend.\n"
     ]
    }
   ],
   "source": [
    "# standard libraries for data wrangling & visualisation\n",
    "import pandas as pd\n",
    "import numpy as np\n",
    "import matplotlib.pyplot as plt\n",
    "\n",
    "# machine learning libraries\n",
    "import tensorflow as tf\n",
    "from keras.layers import Dense, Input, Activation, BatchNormalization\n",
    "from keras.optimizers import Adam\n",
    "from keras.models import Model\n",
    "\n",
    "# other libraries\n",
    "from tqdm import tqdm_notebook as tqdm"
   ]
  },
  {
   "cell_type": "markdown",
   "metadata": {},
   "source": [
    "#### Importing\n",
    "Import all the data as data frames and then (optionally) reduce the memory usage for better performance\n",
    "\n",
    "This can take a while depending on the performance of your machine"
   ]
  },
  {
   "cell_type": "code",
   "execution_count": 3,
   "metadata": {},
   "outputs": [],
   "source": [
    "df_train = pd.read_csv('input/train.csv')\n",
    "df_test = pd.read_csv('input/test.csv')\n",
    "df_struct = pd.read_csv('input/structures.csv')\n",
    "\n",
    "df_potential = pd.read_csv('input/potential_energy.csv')\n",
    "df_dipole = pd.read_csv('input/dipole_moments.csv')\n",
    "df_mulliken = pd.read_csv('input/mulliken_charges.csv')\n",
    "df_magnetic = pd.read_csv('input/magnetic_shielding_tensors.csv')\n",
    "\n",
    "df_scc = pd.read_csv('input/scalar_coupling_contributions.csv')"
   ]
  },
  {
   "cell_type": "code",
   "execution_count": 4,
   "metadata": {},
   "outputs": [
    {
     "name": "stdout",
     "output_type": "stream",
     "text": [
      "Mem. usage decreased to 106.62 Mb (50.0% reduction)\n",
      "Mem. usage decreased to 52.57 Mb (45.0% reduction)\n",
      "Mem. usage decreased to 51.74 Mb (52.1% reduction)\n",
      "Mem. usage decreased to  0.81 Mb (37.5% reduction)\n",
      "Mem. usage decreased to  1.13 Mb (56.2% reduction)\n",
      "Mem. usage decreased to 16.09 Mb (54.2% reduction)\n",
      "Mem. usage decreased to 39.49 Mb (69.3% reduction)\n",
      "Mem. usage decreased to 115.50 Mb (59.4% reduction)\n"
     ]
    }
   ],
   "source": [
    "# reduce_mem_usage taken from https://www.kaggle.com/gemartin/load-data-reduce-memory-usage\n",
    "\n",
    "def reduce_mem_usage(df, verbose=True):\n",
    "    numerics = ['int16', 'int32', 'int64', 'float16', 'float32', 'float64']\n",
    "    start_mem = df.memory_usage().sum() / 1024**2    \n",
    "    for col in df.columns:\n",
    "        col_type = df[col].dtypes\n",
    "        if col_type in numerics:\n",
    "            c_min = df[col].min()\n",
    "            c_max = df[col].max()\n",
    "            if str(col_type)[:3] == 'int':\n",
    "                if c_min > np.iinfo(np.int8).min and c_max < np.iinfo(np.int8).max:\n",
    "                    df[col] = df[col].astype(np.int8)\n",
    "                elif c_min > np.iinfo(np.int16).min and c_max < np.iinfo(np.int16).max:\n",
    "                    df[col] = df[col].astype(np.int16)\n",
    "                elif c_min > np.iinfo(np.int32).min and c_max < np.iinfo(np.int32).max:\n",
    "                    df[col] = df[col].astype(np.int32)\n",
    "                elif c_min > np.iinfo(np.int64).min and c_max < np.iinfo(np.int64).max:\n",
    "                    df[col] = df[col].astype(np.int64)  \n",
    "            else:\n",
    "                if c_min > np.finfo(np.float16).min and c_max < np.finfo(np.float16).max:\n",
    "                    df[col] = df[col].astype(np.float16)\n",
    "                elif c_min > np.finfo(np.float32).min and c_max < np.finfo(np.float32).max:\n",
    "                    df[col] = df[col].astype(np.float32)\n",
    "                else:\n",
    "                    df[col] = df[col].astype(np.float64)    \n",
    "    end_mem = df.memory_usage().sum() / 1024**2\n",
    "    if verbose: print('Mem. usage decreased to {:5.2f} Mb ({:.1f}% reduction)'.format(end_mem, 100 * (start_mem - end_mem) / start_mem))\n",
    "    return df\n",
    "\n",
    "df_train = reduce_mem_usage(df_train)\n",
    "df_test = reduce_mem_usage(df_test)\n",
    "df_struct = reduce_mem_usage(df_struct)\n",
    "\n",
    "df_potential = reduce_mem_usage(df_potential)\n",
    "df_dipole = reduce_mem_usage(df_dipole)\n",
    "df_mulliken = reduce_mem_usage(df_mulliken)\n",
    "df_magnetic = reduce_mem_usage(df_magnetic)\n",
    "\n",
    "df_scc = reduce_mem_usage(df_scc)"
   ]
  },
  {
   "cell_type": "markdown",
   "metadata": {},
   "source": [
    "Be wary that the memory reduction does reduce the accuracy of the data so be sure to keep looking at the original\n",
    "\n",
    "Now lets look at some of the data"
   ]
  },
  {
   "cell_type": "code",
   "execution_count": 40,
   "metadata": {
    "scrolled": true
   },
   "outputs": [
    {
     "data": {
      "text/html": [
       "<div>\n",
       "<style scoped>\n",
       "    .dataframe tbody tr th:only-of-type {\n",
       "        vertical-align: middle;\n",
       "    }\n",
       "\n",
       "    .dataframe tbody tr th {\n",
       "        vertical-align: top;\n",
       "    }\n",
       "\n",
       "    .dataframe thead th {\n",
       "        text-align: right;\n",
       "    }\n",
       "</style>\n",
       "<table border=\"1\" class=\"dataframe\">\n",
       "  <thead>\n",
       "    <tr style=\"text-align: right;\">\n",
       "      <th></th>\n",
       "      <th>type</th>\n",
       "      <th>scalar_coupling_constant</th>\n",
       "    </tr>\n",
       "  </thead>\n",
       "  <tbody>\n",
       "    <tr>\n",
       "      <th>0</th>\n",
       "      <td>1JHC</td>\n",
       "      <td>84.812500</td>\n",
       "    </tr>\n",
       "    <tr>\n",
       "      <th>1</th>\n",
       "      <td>2JHH</td>\n",
       "      <td>-11.257812</td>\n",
       "    </tr>\n",
       "    <tr>\n",
       "      <th>2</th>\n",
       "      <td>2JHH</td>\n",
       "      <td>-11.257812</td>\n",
       "    </tr>\n",
       "    <tr>\n",
       "      <th>3</th>\n",
       "      <td>2JHH</td>\n",
       "      <td>-11.257812</td>\n",
       "    </tr>\n",
       "    <tr>\n",
       "      <th>4</th>\n",
       "      <td>1JHC</td>\n",
       "      <td>84.812500</td>\n",
       "    </tr>\n",
       "    <tr>\n",
       "      <th>5</th>\n",
       "      <td>2JHH</td>\n",
       "      <td>-11.257812</td>\n",
       "    </tr>\n",
       "    <tr>\n",
       "      <th>6</th>\n",
       "      <td>2JHH</td>\n",
       "      <td>-11.257812</td>\n",
       "    </tr>\n",
       "    <tr>\n",
       "      <th>7</th>\n",
       "      <td>1JHC</td>\n",
       "      <td>84.812500</td>\n",
       "    </tr>\n",
       "    <tr>\n",
       "      <th>8</th>\n",
       "      <td>2JHH</td>\n",
       "      <td>-11.257812</td>\n",
       "    </tr>\n",
       "    <tr>\n",
       "      <th>9</th>\n",
       "      <td>1JHC</td>\n",
       "      <td>84.812500</td>\n",
       "    </tr>\n",
       "    <tr>\n",
       "      <th>10</th>\n",
       "      <td>1JHN</td>\n",
       "      <td>32.687500</td>\n",
       "    </tr>\n",
       "    <tr>\n",
       "      <th>11</th>\n",
       "      <td>2JHH</td>\n",
       "      <td>-11.187500</td>\n",
       "    </tr>\n",
       "    <tr>\n",
       "      <th>12</th>\n",
       "      <td>2JHH</td>\n",
       "      <td>-11.171875</td>\n",
       "    </tr>\n",
       "    <tr>\n",
       "      <th>13</th>\n",
       "      <td>1JHN</td>\n",
       "      <td>32.687500</td>\n",
       "    </tr>\n",
       "    <tr>\n",
       "      <th>14</th>\n",
       "      <td>2JHH</td>\n",
       "      <td>-11.179688</td>\n",
       "    </tr>\n",
       "    <tr>\n",
       "      <th>15</th>\n",
       "      <td>1JHN</td>\n",
       "      <td>32.687500</td>\n",
       "    </tr>\n",
       "    <tr>\n",
       "      <th>16</th>\n",
       "      <td>2JHH</td>\n",
       "      <td>-9.945312</td>\n",
       "    </tr>\n",
       "    <tr>\n",
       "      <th>17</th>\n",
       "      <td>1JHC</td>\n",
       "      <td>171.250000</td>\n",
       "    </tr>\n",
       "    <tr>\n",
       "      <th>18</th>\n",
       "      <td>2JHN</td>\n",
       "      <td>5.183594</td>\n",
       "    </tr>\n",
       "    <tr>\n",
       "      <th>19</th>\n",
       "      <td>1JHC</td>\n",
       "      <td>83.562500</td>\n",
       "    </tr>\n",
       "  </tbody>\n",
       "</table>\n",
       "</div>"
      ],
      "text/plain": [
       "    type  scalar_coupling_constant\n",
       "0   1JHC                 84.812500\n",
       "1   2JHH                -11.257812\n",
       "2   2JHH                -11.257812\n",
       "3   2JHH                -11.257812\n",
       "4   1JHC                 84.812500\n",
       "5   2JHH                -11.257812\n",
       "6   2JHH                -11.257812\n",
       "7   1JHC                 84.812500\n",
       "8   2JHH                -11.257812\n",
       "9   1JHC                 84.812500\n",
       "10  1JHN                 32.687500\n",
       "11  2JHH                -11.187500\n",
       "12  2JHH                -11.171875\n",
       "13  1JHN                 32.687500\n",
       "14  2JHH                -11.179688\n",
       "15  1JHN                 32.687500\n",
       "16  2JHH                 -9.945312\n",
       "17  1JHC                171.250000\n",
       "18  2JHN                  5.183594\n",
       "19  1JHC                 83.562500"
      ]
     },
     "execution_count": 40,
     "metadata": {},
     "output_type": "execute_result"
    }
   ],
   "source": [
    "df_train[['type', 'scalar_coupling_constant']].head(20)"
   ]
  },
  {
   "cell_type": "markdown",
   "metadata": {},
   "source": [
    "At first glance, it seems that the type plays a big role in determining the scalar coupling constant. Looking at other public kernels, it seems like creating a model for each type is the best performance\n",
    "\n",
    "Let's try looking at the distribution for each of the types"
   ]
  },
  {
   "cell_type": "code",
   "execution_count": 41,
   "metadata": {},
   "outputs": [
    {
     "data": {
      "image/png": "[encoded data removed]",
      "text/plain": [
       "<Figure size 432x288 with 1 Axes>"
      ]
     },
     "metadata": {
      "needs_background": "light"
     },
     "output_type": "display_data"
    },
    {
     "data": {
      "image/png": "[encoded data removed]",
      "text/plain": [
       "<Figure size 432x288 with 1 Axes>"
      ]
     },
     "metadata": {
      "needs_background": "light"
     },
     "output_type": "display_data"
    },
    {
     "data": {
      "image/png": "[encoded data removed]",
      "text/plain": [
       "<Figure size 432x288 with 1 Axes>"
      ]
     },
     "metadata": {
      "needs_background": "light"
     },
     "output_type": "display_data"
    },
    {
     "data": {
      "image/png": "[encoded data removed]",
      "text/plain": [
       "<Figure size 432x288 with 1 Axes>"
      ]
     },
     "metadata": {
      "needs_background": "light"
     },
     "output_type": "display_data"
    },
    {
     "data": {
      "image/png": "[encoded data removed]",
      "text/plain": [
       "<Figure size 432x288 with 1 Axes>"
      ]
     },
     "metadata": {
      "needs_background": "light"
     },
     "output_type": "display_data"
    },
    {
     "data": {
      "image/png": "[encoded data removed]",
      "text/plain": [
       "<Figure size 432x288 with 1 Axes>"
      ]
     },
     "metadata": {
      "needs_background": "light"
     },
     "output_type": "display_data"
    },
    {
     "data": {
      "image/png": "[encoded data removed]",
      "text/plain": [
       "<Figure size 432x288 with 1 Axes>"
      ]
     },
     "metadata": {
      "needs_background": "light"
     },
     "output_type": "display_data"
    },
    {
     "data": {
      "image/png": "[encoded data removed]",
      "text/plain": [
       "<Figure size 432x288 with 1 Axes>"
      ]
     },
     "metadata": {
      "needs_background": "light"
     },
     "output_type": "display_data"
    }
   ],
   "source": [
    "types = df_train['type'].unique()\n",
    "for i in range(df_train['type'].nunique()):\n",
    "    t = types[i]\n",
    "    plt.title(t)\n",
    "    plt.show(df_train['scalar_coupling_constant'][(df_train.type == t)][::10].hist(bins=20))\n",
    "    "
   ]
  },
  {
   "cell_type": "markdown",
   "metadata": {},
   "source": [
    "Each type has quite a different distribution, so custom models would be the best, afterall the test data DOES provide the coupling type"
   ]
  },
  {
   "cell_type": "code",
   "execution_count": null,
   "metadata": {},
   "outputs": [],
   "source": []
  }
 ],
 "metadata": {
  "kernelspec": {
   "display_name": "Python 3",
   "language": "python",
   "name": "python3"
  },
  "language_info": {
   "codemirror_mode": {
    "name": "ipython",
    "version": 3
   },
   "file_extension": ".py",
   "mimetype": "text/x-python",
   "name": "python",
   "nbconvert_exporter": "python",
   "pygments_lexer": "ipython3",
   "version": "3.7.1"
  }
 },
 "nbformat": 4,
 "nbformat_minor": 2
}
